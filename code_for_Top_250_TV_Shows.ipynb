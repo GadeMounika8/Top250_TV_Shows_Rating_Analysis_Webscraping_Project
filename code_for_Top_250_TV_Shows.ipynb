{
 "cells": [
  {
   "cell_type": "code",
   "execution_count": 5,
   "id": "8b12a5fc",
   "metadata": {},
   "outputs": [],
   "source": [
    "from bs4 import BeautifulSoup\n",
    "import requests, openpyxl"
   ]
  },
  {
   "cell_type": "code",
   "execution_count": 6,
   "id": "0fec123d",
   "metadata": {},
   "outputs": [],
   "source": [
    "excel = openpyxl.Workbook()\n",
    "worksheet = excel.active\n",
    "worksheet.title = \"Top 250 TV Shows List\"\n",
    "worksheet.append(['Rank', 'Show_Name', 'Year_of_Release', 'IMDB Rating'])"
   ]
  },
  {
   "cell_type": "code",
   "execution_count": 7,
   "id": "41d2f972",
   "metadata": {},
   "outputs": [],
   "source": [
    "try:\n",
    "    response = requests.get(\"https://www.imdb.com/chart/toptv/?ref_=nv_tvv_250\")\n",
    "    soup = BeautifulSoup(response.text, 'html.parser')\n",
    "    #print(soup)\n",
    "    shows = soup.find('tbody', class_=\"lister-list\").find_all(\"tr\")\n",
    "    \n",
    "    for show in shows:\n",
    "        #print(show)\n",
    "        rank = show.find('td', class_ = \"titleColumn\").get_text(strip = True)\n",
    "        rank = rank.split('.')[0]\n",
    "        show_name = show.find('td', class_ = \"titleColumn\").a.text\n",
    "        rating = show.find('td', class_ = \"ratingColumn imdbRating\").strong.text\n",
    "        show_year = show.find('td', class_ = \"titleColumn\").span.text.replace('(', \"\").replace(')', \"\")\n",
    "        #print(rank, show_name, show_year, rating)\n",
    "        worksheet.append([rank, show_name, show_year, rating])\n",
    "        #break\n",
    "except Exception as e:\n",
    "    print(e)"
   ]
  },
  {
   "cell_type": "code",
   "execution_count": 8,
   "id": "5c47890b",
   "metadata": {},
   "outputs": [],
   "source": [
    "excel.save(\"Top_250_Shows_List.xlsx\")"
   ]
  }
 ],
 "metadata": {
  "kernelspec": {
   "display_name": "Python 3 (ipykernel)",
   "language": "python",
   "name": "python3"
  },
  "language_info": {
   "codemirror_mode": {
    "name": "ipython",
    "version": 3
   },
   "file_extension": ".py",
   "mimetype": "text/x-python",
   "name": "python",
   "nbconvert_exporter": "python",
   "pygments_lexer": "ipython3",
   "version": "3.9.13"
  }
 },
 "nbformat": 4,
 "nbformat_minor": 5
}
