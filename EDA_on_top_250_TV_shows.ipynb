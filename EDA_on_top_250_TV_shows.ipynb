{
 "cells": [
  {
   "cell_type": "markdown",
   "id": "593725a5",
   "metadata": {},
   "source": [
    "# Step-1: Importing all required Libraries"
   ]
  },
  {
   "cell_type": "code",
   "execution_count": 1,
   "id": "1f0400cf",
   "metadata": {},
   "outputs": [],
   "source": [
    "# importing all Required Libraries\n",
    "import numpy as np\n",
    "import pandas as pd\n",
    "import matplotlib.pyplot as plt\n",
    "import seaborn as sns"
   ]
  },
  {
   "cell_type": "markdown",
   "id": "4be74814",
   "metadata": {},
   "source": [
    "# Step-2: Load the Dataset"
   ]
  },
  {
   "cell_type": "code",
   "execution_count": 2,
   "id": "3d5e49a5",
   "metadata": {},
   "outputs": [
    {
     "data": {
      "text/html": [
       "<div>\n",
       "<style scoped>\n",
       "    .dataframe tbody tr th:only-of-type {\n",
       "        vertical-align: middle;\n",
       "    }\n",
       "\n",
       "    .dataframe tbody tr th {\n",
       "        vertical-align: top;\n",
       "    }\n",
       "\n",
       "    .dataframe thead th {\n",
       "        text-align: right;\n",
       "    }\n",
       "</style>\n",
       "<table border=\"1\" class=\"dataframe\">\n",
       "  <thead>\n",
       "    <tr style=\"text-align: right;\">\n",
       "      <th></th>\n",
       "      <th>Rank</th>\n",
       "      <th>Show_Name</th>\n",
       "      <th>Year_of_Release</th>\n",
       "      <th>IMDB Rating</th>\n",
       "    </tr>\n",
       "  </thead>\n",
       "  <tbody>\n",
       "    <tr>\n",
       "      <th>0</th>\n",
       "      <td>1</td>\n",
       "      <td>Planet Earth II</td>\n",
       "      <td>2016</td>\n",
       "      <td>9.4</td>\n",
       "    </tr>\n",
       "    <tr>\n",
       "      <th>1</th>\n",
       "      <td>2</td>\n",
       "      <td>Breaking Bad</td>\n",
       "      <td>2008</td>\n",
       "      <td>9.4</td>\n",
       "    </tr>\n",
       "    <tr>\n",
       "      <th>2</th>\n",
       "      <td>3</td>\n",
       "      <td>Planet Earth</td>\n",
       "      <td>2006</td>\n",
       "      <td>9.4</td>\n",
       "    </tr>\n",
       "    <tr>\n",
       "      <th>3</th>\n",
       "      <td>4</td>\n",
       "      <td>Band of Brothers</td>\n",
       "      <td>2001</td>\n",
       "      <td>9.4</td>\n",
       "    </tr>\n",
       "    <tr>\n",
       "      <th>4</th>\n",
       "      <td>5</td>\n",
       "      <td>Chernobyl</td>\n",
       "      <td>2019</td>\n",
       "      <td>9.3</td>\n",
       "    </tr>\n",
       "    <tr>\n",
       "      <th>...</th>\n",
       "      <td>...</td>\n",
       "      <td>...</td>\n",
       "      <td>...</td>\n",
       "      <td>...</td>\n",
       "    </tr>\n",
       "    <tr>\n",
       "      <th>245</th>\n",
       "      <td>246</td>\n",
       "      <td>Gintama</td>\n",
       "      <td>2005</td>\n",
       "      <td>8.4</td>\n",
       "    </tr>\n",
       "    <tr>\n",
       "      <th>246</th>\n",
       "      <td>247</td>\n",
       "      <td>Foyle's War</td>\n",
       "      <td>2002</td>\n",
       "      <td>8.4</td>\n",
       "    </tr>\n",
       "    <tr>\n",
       "      <th>247</th>\n",
       "      <td>248</td>\n",
       "      <td>Black Books</td>\n",
       "      <td>2000</td>\n",
       "      <td>8.4</td>\n",
       "    </tr>\n",
       "    <tr>\n",
       "      <th>248</th>\n",
       "      <td>249</td>\n",
       "      <td>Saikojiman Gwaenchanha</td>\n",
       "      <td>2020</td>\n",
       "      <td>8.4</td>\n",
       "    </tr>\n",
       "    <tr>\n",
       "      <th>249</th>\n",
       "      <td>250</td>\n",
       "      <td>The Defiant Ones</td>\n",
       "      <td>2017</td>\n",
       "      <td>8.4</td>\n",
       "    </tr>\n",
       "  </tbody>\n",
       "</table>\n",
       "<p>250 rows × 4 columns</p>\n",
       "</div>"
      ],
      "text/plain": [
       "     Rank               Show_Name  Year_of_Release  IMDB Rating\n",
       "0       1         Planet Earth II             2016          9.4\n",
       "1       2            Breaking Bad             2008          9.4\n",
       "2       3            Planet Earth             2006          9.4\n",
       "3       4        Band of Brothers             2001          9.4\n",
       "4       5               Chernobyl             2019          9.3\n",
       "..    ...                     ...              ...          ...\n",
       "245   246                 Gintama             2005          8.4\n",
       "246   247             Foyle's War             2002          8.4\n",
       "247   248             Black Books             2000          8.4\n",
       "248   249  Saikojiman Gwaenchanha             2020          8.4\n",
       "249   250        The Defiant Ones             2017          8.4\n",
       "\n",
       "[250 rows x 4 columns]"
      ]
     },
     "execution_count": 2,
     "metadata": {},
     "output_type": "execute_result"
    }
   ],
   "source": [
    "# Load the Dataset\n",
    "df =  pd.read_excel(\"Top_250_Shows_List.xlsx\")\n",
    "df"
   ]
  },
  {
   "cell_type": "markdown",
   "id": "87c34ad6",
   "metadata": {},
   "source": [
    "# Step-3: Data Cleaning"
   ]
  },
  {
   "cell_type": "code",
   "execution_count": 3,
   "id": "fb7b2088",
   "metadata": {},
   "outputs": [
    {
     "data": {
      "text/html": [
       "<div>\n",
       "<style scoped>\n",
       "    .dataframe tbody tr th:only-of-type {\n",
       "        vertical-align: middle;\n",
       "    }\n",
       "\n",
       "    .dataframe tbody tr th {\n",
       "        vertical-align: top;\n",
       "    }\n",
       "\n",
       "    .dataframe thead th {\n",
       "        text-align: right;\n",
       "    }\n",
       "</style>\n",
       "<table border=\"1\" class=\"dataframe\">\n",
       "  <thead>\n",
       "    <tr style=\"text-align: right;\">\n",
       "      <th></th>\n",
       "      <th>Rank</th>\n",
       "      <th>Show_Name</th>\n",
       "      <th>Year_of_Release</th>\n",
       "      <th>IMDB Rating</th>\n",
       "    </tr>\n",
       "  </thead>\n",
       "  <tbody>\n",
       "    <tr>\n",
       "      <th>0</th>\n",
       "      <td>1</td>\n",
       "      <td>Planet Earth II</td>\n",
       "      <td>2016</td>\n",
       "      <td>9.4</td>\n",
       "    </tr>\n",
       "    <tr>\n",
       "      <th>1</th>\n",
       "      <td>2</td>\n",
       "      <td>Breaking Bad</td>\n",
       "      <td>2008</td>\n",
       "      <td>9.4</td>\n",
       "    </tr>\n",
       "    <tr>\n",
       "      <th>2</th>\n",
       "      <td>3</td>\n",
       "      <td>Planet Earth</td>\n",
       "      <td>2006</td>\n",
       "      <td>9.4</td>\n",
       "    </tr>\n",
       "    <tr>\n",
       "      <th>3</th>\n",
       "      <td>4</td>\n",
       "      <td>Band of Brothers</td>\n",
       "      <td>2001</td>\n",
       "      <td>9.4</td>\n",
       "    </tr>\n",
       "    <tr>\n",
       "      <th>4</th>\n",
       "      <td>5</td>\n",
       "      <td>Chernobyl</td>\n",
       "      <td>2019</td>\n",
       "      <td>9.3</td>\n",
       "    </tr>\n",
       "  </tbody>\n",
       "</table>\n",
       "</div>"
      ],
      "text/plain": [
       "   Rank         Show_Name  Year_of_Release  IMDB Rating\n",
       "0     1   Planet Earth II             2016          9.4\n",
       "1     2      Breaking Bad             2008          9.4\n",
       "2     3      Planet Earth             2006          9.4\n",
       "3     4  Band of Brothers             2001          9.4\n",
       "4     5         Chernobyl             2019          9.3"
      ]
     },
     "execution_count": 3,
     "metadata": {},
     "output_type": "execute_result"
    }
   ],
   "source": [
    "# Top 5 Records in a DataFrame\n",
    "df.head()"
   ]
  },
  {
   "cell_type": "code",
   "execution_count": 4,
   "id": "0d01e60e",
   "metadata": {},
   "outputs": [
    {
     "data": {
      "text/plain": [
       "(250, 4)"
      ]
     },
     "execution_count": 4,
     "metadata": {},
     "output_type": "execute_result"
    }
   ],
   "source": [
    "# displays no:of Rows and Columns\n",
    "df.shape"
   ]
  },
  {
   "cell_type": "code",
   "execution_count": 5,
   "id": "95ffe9b5",
   "metadata": {},
   "outputs": [
    {
     "data": {
      "text/plain": [
       "Index(['Rank', 'Show_Name', 'Year_of_Release', 'IMDB Rating'], dtype='object')"
      ]
     },
     "execution_count": 5,
     "metadata": {},
     "output_type": "execute_result"
    }
   ],
   "source": [
    "# displays all the Column Names in a DataFrame\n",
    "df.columns"
   ]
  },
  {
   "cell_type": "code",
   "execution_count": 6,
   "id": "97664061",
   "metadata": {},
   "outputs": [
    {
     "data": {
      "text/plain": [
       "Rank               0\n",
       "Show_Name          0\n",
       "Year_of_Release    0\n",
       "IMDB Rating        0\n",
       "dtype: int64"
      ]
     },
     "execution_count": 6,
     "metadata": {},
     "output_type": "execute_result"
    }
   ],
   "source": [
    "# shows the total no:of Null Values in each column of a DataFrame\n",
    "df.isnull().sum()"
   ]
  },
  {
   "cell_type": "code",
   "execution_count": 7,
   "id": "f72d97b2",
   "metadata": {},
   "outputs": [
    {
     "data": {
      "text/plain": [
       "0"
      ]
     },
     "execution_count": 7,
     "metadata": {},
     "output_type": "execute_result"
    }
   ],
   "source": [
    "# shows the no:of Duplicate values\n",
    "df.duplicated().sum()"
   ]
  },
  {
   "cell_type": "markdown",
   "id": "8c6051a3",
   "metadata": {},
   "source": [
    "# Step-4: Data Exploration"
   ]
  },
  {
   "cell_type": "code",
   "execution_count": 8,
   "id": "c8e1f54a",
   "metadata": {},
   "outputs": [
    {
     "data": {
      "text/plain": [
       "(250, 4)"
      ]
     },
     "execution_count": 8,
     "metadata": {},
     "output_type": "execute_result"
    }
   ],
   "source": [
    "# Shows the total no:of Rows and Columns in a DataFrame\n",
    "df.shape"
   ]
  },
  {
   "cell_type": "code",
   "execution_count": 9,
   "id": "edc122ff",
   "metadata": {},
   "outputs": [
    {
     "data": {
      "text/plain": [
       "Index(['Rank', 'Show_Name', 'Year_of_Release', 'IMDB Rating'], dtype='object')"
      ]
     },
     "execution_count": 9,
     "metadata": {},
     "output_type": "execute_result"
    }
   ],
   "source": [
    "# Shows all the Column names of a DataFrame\n",
    "df.columns"
   ]
  },
  {
   "cell_type": "code",
   "execution_count": 10,
   "id": "631fc150",
   "metadata": {},
   "outputs": [
    {
     "data": {
      "text/plain": [
       "Rank                 int64\n",
       "Show_Name           object\n",
       "Year_of_Release      int64\n",
       "IMDB Rating        float64\n",
       "dtype: object"
      ]
     },
     "execution_count": 10,
     "metadata": {},
     "output_type": "execute_result"
    }
   ],
   "source": [
    "# Shows each column datatype \n",
    "df.dtypes"
   ]
  },
  {
   "cell_type": "code",
   "execution_count": 11,
   "id": "158c6685",
   "metadata": {},
   "outputs": [
    {
     "name": "stdout",
     "output_type": "stream",
     "text": [
      "<class 'pandas.core.frame.DataFrame'>\n",
      "RangeIndex: 250 entries, 0 to 249\n",
      "Data columns (total 4 columns):\n",
      " #   Column           Non-Null Count  Dtype  \n",
      "---  ------           --------------  -----  \n",
      " 0   Rank             250 non-null    int64  \n",
      " 1   Show_Name        250 non-null    object \n",
      " 2   Year_of_Release  250 non-null    int64  \n",
      " 3   IMDB Rating      250 non-null    float64\n",
      "dtypes: float64(1), int64(2), object(1)\n",
      "memory usage: 7.9+ KB\n"
     ]
    }
   ],
   "source": [
    "# It returns all the information of the Data in a DataFrame\n",
    "df.info()"
   ]
  },
  {
   "cell_type": "code",
   "execution_count": 12,
   "id": "e19bdd83",
   "metadata": {},
   "outputs": [
    {
     "data": {
      "text/html": [
       "<div>\n",
       "<style scoped>\n",
       "    .dataframe tbody tr th:only-of-type {\n",
       "        vertical-align: middle;\n",
       "    }\n",
       "\n",
       "    .dataframe tbody tr th {\n",
       "        vertical-align: top;\n",
       "    }\n",
       "\n",
       "    .dataframe thead th {\n",
       "        text-align: right;\n",
       "    }\n",
       "</style>\n",
       "<table border=\"1\" class=\"dataframe\">\n",
       "  <thead>\n",
       "    <tr style=\"text-align: right;\">\n",
       "      <th></th>\n",
       "      <th>Rank</th>\n",
       "      <th>Year_of_Release</th>\n",
       "      <th>IMDB Rating</th>\n",
       "    </tr>\n",
       "  </thead>\n",
       "  <tbody>\n",
       "    <tr>\n",
       "      <th>count</th>\n",
       "      <td>250.000000</td>\n",
       "      <td>250.000000</td>\n",
       "      <td>250.000000</td>\n",
       "    </tr>\n",
       "    <tr>\n",
       "      <th>mean</th>\n",
       "      <td>125.500000</td>\n",
       "      <td>2006.948000</td>\n",
       "      <td>8.649600</td>\n",
       "    </tr>\n",
       "    <tr>\n",
       "      <th>std</th>\n",
       "      <td>72.312977</td>\n",
       "      <td>12.518312</td>\n",
       "      <td>0.217922</td>\n",
       "    </tr>\n",
       "    <tr>\n",
       "      <th>min</th>\n",
       "      <td>1.000000</td>\n",
       "      <td>1955.000000</td>\n",
       "      <td>8.400000</td>\n",
       "    </tr>\n",
       "    <tr>\n",
       "      <th>25%</th>\n",
       "      <td>63.250000</td>\n",
       "      <td>2001.000000</td>\n",
       "      <td>8.500000</td>\n",
       "    </tr>\n",
       "    <tr>\n",
       "      <th>50%</th>\n",
       "      <td>125.500000</td>\n",
       "      <td>2010.000000</td>\n",
       "      <td>8.600000</td>\n",
       "    </tr>\n",
       "    <tr>\n",
       "      <th>75%</th>\n",
       "      <td>187.750000</td>\n",
       "      <td>2016.000000</td>\n",
       "      <td>8.775000</td>\n",
       "    </tr>\n",
       "    <tr>\n",
       "      <th>max</th>\n",
       "      <td>250.000000</td>\n",
       "      <td>2023.000000</td>\n",
       "      <td>9.400000</td>\n",
       "    </tr>\n",
       "  </tbody>\n",
       "</table>\n",
       "</div>"
      ],
      "text/plain": [
       "             Rank  Year_of_Release  IMDB Rating\n",
       "count  250.000000       250.000000   250.000000\n",
       "mean   125.500000      2006.948000     8.649600\n",
       "std     72.312977        12.518312     0.217922\n",
       "min      1.000000      1955.000000     8.400000\n",
       "25%     63.250000      2001.000000     8.500000\n",
       "50%    125.500000      2010.000000     8.600000\n",
       "75%    187.750000      2016.000000     8.775000\n",
       "max    250.000000      2023.000000     9.400000"
      ]
     },
     "execution_count": 12,
     "metadata": {},
     "output_type": "execute_result"
    }
   ],
   "source": [
    "# It returns the Description of the Data in a DataFrame\n",
    "df.describe()"
   ]
  },
  {
   "cell_type": "code",
   "execution_count": 13,
   "id": "ab4b890e",
   "metadata": {},
   "outputs": [
    {
     "data": {
      "text/plain": [
       "8.4"
      ]
     },
     "execution_count": 13,
     "metadata": {},
     "output_type": "execute_result"
    }
   ],
   "source": [
    "# Gives miminum IMDB Rating of the Shows\n",
    "df['IMDB Rating'].min()"
   ]
  },
  {
   "cell_type": "code",
   "execution_count": 14,
   "id": "beefd074",
   "metadata": {},
   "outputs": [
    {
     "data": {
      "text/plain": [
       "9.4"
      ]
     },
     "execution_count": 14,
     "metadata": {},
     "output_type": "execute_result"
    }
   ],
   "source": [
    "# Gives Maximum IMDB Rating of the Shows\n",
    "df['IMDB Rating'].max()"
   ]
  },
  {
   "cell_type": "code",
   "execution_count": 15,
   "id": "59169642",
   "metadata": {},
   "outputs": [
    {
     "data": {
      "text/plain": [
       "8.649600000000005"
      ]
     },
     "execution_count": 15,
     "metadata": {},
     "output_type": "execute_result"
    }
   ],
   "source": [
    "# Gives Average IMDB Rating of the Shows\n",
    "df['IMDB Rating'].mean()"
   ]
  },
  {
   "cell_type": "code",
   "execution_count": 16,
   "id": "fab9c43c",
   "metadata": {},
   "outputs": [
    {
     "data": {
      "text/plain": [
       "1955"
      ]
     },
     "execution_count": 16,
     "metadata": {},
     "output_type": "execute_result"
    }
   ],
   "source": [
    "# Gives minimum Release year of the top 250 tv shows\n",
    "df['Year_of_Release'].min()"
   ]
  },
  {
   "cell_type": "code",
   "execution_count": 17,
   "id": "63e27914",
   "metadata": {},
   "outputs": [
    {
     "data": {
      "text/plain": [
       "2023"
      ]
     },
     "execution_count": 17,
     "metadata": {},
     "output_type": "execute_result"
    }
   ],
   "source": [
    "# Gives maxmi Release year of the top 250 tv shows\n",
    "df['Year_of_Release'].max()"
   ]
  },
  {
   "cell_type": "code",
   "execution_count": 18,
   "id": "9668eecb",
   "metadata": {},
   "outputs": [
    {
     "data": {
      "text/plain": [
       "8.5    80\n",
       "8.6    54\n",
       "8.7    27\n",
       "8.4    26\n",
       "8.9    20\n",
       "8.8    20\n",
       "9.0     8\n",
       "9.2     6\n",
       "9.4     4\n",
       "9.1     3\n",
       "9.3     2\n",
       "Name: IMDB Rating, dtype: int64"
      ]
     },
     "execution_count": 18,
     "metadata": {},
     "output_type": "execute_result"
    }
   ],
   "source": [
    "df['IMDB Rating'].value_counts()"
   ]
  },
  {
   "cell_type": "code",
   "execution_count": 19,
   "id": "957fd568",
   "metadata": {},
   "outputs": [
    {
     "data": {
      "text/plain": [
       "2015    15\n",
       "2019    14\n",
       "2014    14\n",
       "2016    11\n",
       "2004    11\n",
       "2018    11\n",
       "2011    11\n",
       "2017    10\n",
       "2010    10\n",
       "2021     9\n",
       "2009     9\n",
       "2013     8\n",
       "1989     8\n",
       "2020     7\n",
       "1999     7\n",
       "2005     7\n",
       "2001     7\n",
       "2003     7\n",
       "2022     7\n",
       "2006     6\n",
       "1997     5\n",
       "2002     5\n",
       "2012     5\n",
       "1986     4\n",
       "1995     4\n",
       "2000     3\n",
       "2007     3\n",
       "1987     3\n",
       "1998     3\n",
       "2008     3\n",
       "1990     3\n",
       "1980     2\n",
       "1988     2\n",
       "1993     2\n",
       "1984     1\n",
       "1960     1\n",
       "1972     1\n",
       "1973     1\n",
       "2023     1\n",
       "1976     1\n",
       "1975     1\n",
       "1985     1\n",
       "1969     1\n",
       "1994     1\n",
       "1981     1\n",
       "1992     1\n",
       "1959     1\n",
       "1955     1\n",
       "Name: Year_of_Release, dtype: int64"
      ]
     },
     "execution_count": 19,
     "metadata": {},
     "output_type": "execute_result"
    }
   ],
   "source": [
    "df['Year_of_Release'].value_counts()"
   ]
  },
  {
   "cell_type": "code",
   "execution_count": 20,
   "id": "db860d53",
   "metadata": {},
   "outputs": [
    {
     "data": {
      "text/html": [
       "<div>\n",
       "<style scoped>\n",
       "    .dataframe tbody tr th:only-of-type {\n",
       "        vertical-align: middle;\n",
       "    }\n",
       "\n",
       "    .dataframe tbody tr th {\n",
       "        vertical-align: top;\n",
       "    }\n",
       "\n",
       "    .dataframe thead th {\n",
       "        text-align: right;\n",
       "    }\n",
       "</style>\n",
       "<table border=\"1\" class=\"dataframe\">\n",
       "  <thead>\n",
       "    <tr style=\"text-align: right;\">\n",
       "      <th></th>\n",
       "      <th>Rank</th>\n",
       "      <th>Show_Name</th>\n",
       "      <th>Year_of_Release</th>\n",
       "      <th>IMDB Rating</th>\n",
       "    </tr>\n",
       "  </thead>\n",
       "  <tbody>\n",
       "    <tr>\n",
       "      <th>0</th>\n",
       "      <td>1</td>\n",
       "      <td>Planet Earth II</td>\n",
       "      <td>2016</td>\n",
       "      <td>9.4</td>\n",
       "    </tr>\n",
       "    <tr>\n",
       "      <th>1</th>\n",
       "      <td>2</td>\n",
       "      <td>Breaking Bad</td>\n",
       "      <td>2008</td>\n",
       "      <td>9.4</td>\n",
       "    </tr>\n",
       "    <tr>\n",
       "      <th>2</th>\n",
       "      <td>3</td>\n",
       "      <td>Planet Earth</td>\n",
       "      <td>2006</td>\n",
       "      <td>9.4</td>\n",
       "    </tr>\n",
       "    <tr>\n",
       "      <th>3</th>\n",
       "      <td>4</td>\n",
       "      <td>Band of Brothers</td>\n",
       "      <td>2001</td>\n",
       "      <td>9.4</td>\n",
       "    </tr>\n",
       "    <tr>\n",
       "      <th>4</th>\n",
       "      <td>5</td>\n",
       "      <td>Chernobyl</td>\n",
       "      <td>2019</td>\n",
       "      <td>9.3</td>\n",
       "    </tr>\n",
       "  </tbody>\n",
       "</table>\n",
       "</div>"
      ],
      "text/plain": [
       "   Rank         Show_Name  Year_of_Release  IMDB Rating\n",
       "0     1   Planet Earth II             2016          9.4\n",
       "1     2      Breaking Bad             2008          9.4\n",
       "2     3      Planet Earth             2006          9.4\n",
       "3     4  Band of Brothers             2001          9.4\n",
       "4     5         Chernobyl             2019          9.3"
      ]
     },
     "execution_count": 20,
     "metadata": {},
     "output_type": "execute_result"
    }
   ],
   "source": [
    "# Top 5 Records\n",
    "df.head()"
   ]
  },
  {
   "cell_type": "code",
   "execution_count": 21,
   "id": "2df447c5",
   "metadata": {},
   "outputs": [
    {
     "data": {
      "text/html": [
       "<div>\n",
       "<style scoped>\n",
       "    .dataframe tbody tr th:only-of-type {\n",
       "        vertical-align: middle;\n",
       "    }\n",
       "\n",
       "    .dataframe tbody tr th {\n",
       "        vertical-align: top;\n",
       "    }\n",
       "\n",
       "    .dataframe thead th {\n",
       "        text-align: right;\n",
       "    }\n",
       "</style>\n",
       "<table border=\"1\" class=\"dataframe\">\n",
       "  <thead>\n",
       "    <tr style=\"text-align: right;\">\n",
       "      <th></th>\n",
       "      <th>Rank</th>\n",
       "      <th>Show_Name</th>\n",
       "      <th>Year_of_Release</th>\n",
       "      <th>IMDB Rating</th>\n",
       "    </tr>\n",
       "  </thead>\n",
       "  <tbody>\n",
       "    <tr>\n",
       "      <th>245</th>\n",
       "      <td>246</td>\n",
       "      <td>Gintama</td>\n",
       "      <td>2005</td>\n",
       "      <td>8.4</td>\n",
       "    </tr>\n",
       "    <tr>\n",
       "      <th>246</th>\n",
       "      <td>247</td>\n",
       "      <td>Foyle's War</td>\n",
       "      <td>2002</td>\n",
       "      <td>8.4</td>\n",
       "    </tr>\n",
       "    <tr>\n",
       "      <th>247</th>\n",
       "      <td>248</td>\n",
       "      <td>Black Books</td>\n",
       "      <td>2000</td>\n",
       "      <td>8.4</td>\n",
       "    </tr>\n",
       "    <tr>\n",
       "      <th>248</th>\n",
       "      <td>249</td>\n",
       "      <td>Saikojiman Gwaenchanha</td>\n",
       "      <td>2020</td>\n",
       "      <td>8.4</td>\n",
       "    </tr>\n",
       "    <tr>\n",
       "      <th>249</th>\n",
       "      <td>250</td>\n",
       "      <td>The Defiant Ones</td>\n",
       "      <td>2017</td>\n",
       "      <td>8.4</td>\n",
       "    </tr>\n",
       "  </tbody>\n",
       "</table>\n",
       "</div>"
      ],
      "text/plain": [
       "     Rank               Show_Name  Year_of_Release  IMDB Rating\n",
       "245   246                 Gintama             2005          8.4\n",
       "246   247             Foyle's War             2002          8.4\n",
       "247   248             Black Books             2000          8.4\n",
       "248   249  Saikojiman Gwaenchanha             2020          8.4\n",
       "249   250        The Defiant Ones             2017          8.4"
      ]
     },
     "execution_count": 21,
     "metadata": {},
     "output_type": "execute_result"
    }
   ],
   "source": [
    "# Bottom 5 Records\n",
    "df.tail()"
   ]
  },
  {
   "cell_type": "markdown",
   "id": "3b9af5e0",
   "metadata": {},
   "source": [
    "# Step-5: Data Visualization"
   ]
  },
  {
   "cell_type": "markdown",
   "id": "d49a9786",
   "metadata": {},
   "source": [
    "# Using Matplotlib and Seaborn Library:"
   ]
  },
  {
   "cell_type": "markdown",
   "id": "dbf483c0",
   "metadata": {},
   "source": [
    "# Univariate Analysis:"
   ]
  },
  {
   "cell_type": "code",
   "execution_count": 22,
   "id": "d487b209",
   "metadata": {},
   "outputs": [
    {
     "data": {
      "image/png": "[encoded data removed]",
      "text/plain": [
       "<Figure size 640x480 with 1 Axes>"
      ]
     },
     "metadata": {},
     "output_type": "display_data"
    }
   ],
   "source": [
    "sns.set_style('dark')\n",
    "sns.countplot(x = 'IMDB Rating', data = df, order = [8.5, 8.6, 8.7,8.4,8.9,8.8,9.0,9.2,9.4,9.1,9.3], edgecolor = 'k')\n",
    "plt.show();"
   ]
  },
  {
   "cell_type": "code",
   "execution_count": 23,
   "id": "5ca93240",
   "metadata": {},
   "outputs": [
    {
     "data": {
      "text/plain": [
       "8.5    80\n",
       "8.6    54\n",
       "8.7    27\n",
       "8.4    26\n",
       "8.9    20\n",
       "8.8    20\n",
       "9.0     8\n",
       "9.2     6\n",
       "9.4     4\n",
       "9.1     3\n",
       "9.3     2\n",
       "Name: IMDB Rating, dtype: int64"
      ]
     },
     "execution_count": 23,
     "metadata": {},
     "output_type": "execute_result"
    }
   ],
   "source": [
    "df['IMDB Rating'].value_counts()"
   ]
  },
  {
   "cell_type": "markdown",
   "id": "56044e2f",
   "metadata": {},
   "source": [
    "# Obersvations:\n",
    "\n",
    "1. The Shows which are rated as 8.5 is more in number as compared to other rating Shows that is 80 TV Shows are rated as 8.6.\n",
    "2. 8.8 and 8.9 rating TV Shows are equal in number that is 20 TV Shows rated as 8.8 as well as 20 TV Shows rated as 8.9.\n",
    "3. 9.3 Rating TV Shows are less in number as compared to all other rating TV Shows. Only, Two TV Shows are rated as 9.3.\n",
    "4. Only, four TV Shows rated as 9.4 which is the highest IMDB Rating in the Top 250 TV Shows."
   ]
  },
  {
   "cell_type": "code",
   "execution_count": 24,
   "id": "07f65ca7",
   "metadata": {},
   "outputs": [
    {
     "data": {
      "image/png": "[encoded data removed]",
      "text/plain": [
       "<Figure size 640x480 with 1 Axes>"
      ]
     },
     "metadata": {},
     "output_type": "display_data"
    }
   ],
   "source": [
    "sns.set_style('dark')\n",
    "sns.boxplot( y = 'Year_of_Release', data = df, width = 0.4, color = 'purple')\n",
    "plt.show();"
   ]
  },
  {
   "cell_type": "code",
   "execution_count": 25,
   "id": "94da7734",
   "metadata": {},
   "outputs": [
    {
     "data": {
      "text/plain": [
       "2015    15\n",
       "2019    14\n",
       "2014    14\n",
       "2016    11\n",
       "2004    11\n",
       "2018    11\n",
       "2011    11\n",
       "2017    10\n",
       "2010    10\n",
       "2021     9\n",
       "2009     9\n",
       "2013     8\n",
       "1989     8\n",
       "2020     7\n",
       "1999     7\n",
       "2005     7\n",
       "2001     7\n",
       "2003     7\n",
       "2022     7\n",
       "2006     6\n",
       "1997     5\n",
       "2002     5\n",
       "2012     5\n",
       "1986     4\n",
       "1995     4\n",
       "2000     3\n",
       "2007     3\n",
       "1987     3\n",
       "1998     3\n",
       "2008     3\n",
       "1990     3\n",
       "1980     2\n",
       "1988     2\n",
       "1993     2\n",
       "1984     1\n",
       "1960     1\n",
       "1972     1\n",
       "1973     1\n",
       "2023     1\n",
       "1976     1\n",
       "1975     1\n",
       "1985     1\n",
       "1969     1\n",
       "1994     1\n",
       "1981     1\n",
       "1992     1\n",
       "1959     1\n",
       "1955     1\n",
       "Name: Year_of_Release, dtype: int64"
      ]
     },
     "execution_count": 25,
     "metadata": {},
     "output_type": "execute_result"
    }
   ],
   "source": [
    "df['Year_of_Release'].value_counts()"
   ]
  },
  {
   "cell_type": "markdown",
   "id": "7916a493",
   "metadata": {},
   "source": [
    "# Observations:\n",
    "    \n",
    "1. More Number of TV Shows are Released after 2000 year.\n",
    "2. Highest number of TV Shows are released in 2015. 15 TV Shows are released in 2015 year.\n",
    "3. The TV Shows which are released before 1980 considered as Outliers."
   ]
  },
  {
   "cell_type": "code",
   "execution_count": 26,
   "id": "4dee88ab",
   "metadata": {},
   "outputs": [
    {
     "data": {
      "image/png": "[encoded data removed]",
      "text/plain": [
       "<Figure size 640x480 with 1 Axes>"
      ]
     },
     "metadata": {},
     "output_type": "display_data"
    }
   ],
   "source": [
    "sns.set_style('dark')\n",
    "sns.boxplot( y = 'IMDB Rating', data = df, width = 0.4, color = 'gold')\n",
    "plt.show();"
   ]
  },
  {
   "cell_type": "code",
   "execution_count": 27,
   "id": "0714f39a",
   "metadata": {},
   "outputs": [
    {
     "data": {
      "text/plain": [
       "8.5    80\n",
       "8.6    54\n",
       "8.7    27\n",
       "8.4    26\n",
       "8.9    20\n",
       "8.8    20\n",
       "9.0     8\n",
       "9.2     6\n",
       "9.4     4\n",
       "9.1     3\n",
       "9.3     2\n",
       "Name: IMDB Rating, dtype: int64"
      ]
     },
     "execution_count": 27,
     "metadata": {},
     "output_type": "execute_result"
    }
   ],
   "source": [
    "df['IMDB Rating'].value_counts()"
   ]
  },
  {
   "cell_type": "markdown",
   "id": "239326fc",
   "metadata": {},
   "source": [
    "# Bivariate Analysis:"
   ]
  },
  {
   "cell_type": "code",
   "execution_count": 28,
   "id": "fa394fad",
   "metadata": {},
   "outputs": [
    {
     "data": {
      "image/png": "[encoded data removed]",
      "text/plain": [
       "<Figure size 640x480 with 1 Axes>"
      ]
     },
     "metadata": {},
     "output_type": "display_data"
    }
   ],
   "source": [
    "sns.set_style('dark')\n",
    "sns.boxplot( x = 'IMDB Rating', y = 'Year_of_Release', data = df, width = 0.6, palette = 'Dark2' )\n",
    "plt.show();"
   ]
  },
  {
   "cell_type": "code",
   "execution_count": 29,
   "id": "80b6e558",
   "metadata": {},
   "outputs": [
    {
     "data": {
      "image/png": "[encoded data removed]",
      "text/plain": [
       "<Figure size 640x480 with 1 Axes>"
      ]
     },
     "metadata": {},
     "output_type": "display_data"
    }
   ],
   "source": [
    "sns.set_style('dark')\n",
    "sns.boxplot( x = 'IMDB Rating', y = 'Rank', data = df, palette = 'Accent')\n",
    "plt.show();"
   ]
  },
  {
   "cell_type": "markdown",
   "id": "f2fadc60",
   "metadata": {},
   "source": [
    "# Observation:\n",
    "    \n",
    "Higher Rating gives better Ranking Position. Higher the Rating, better the Rank."
   ]
  },
  {
   "cell_type": "code",
   "execution_count": 31,
   "id": "c1322695",
   "metadata": {},
   "outputs": [
    {
     "data": {
      "image/png": "[encoded data removed]",
      "text/plain": [
       "<Figure size 640x480 with 2 Axes>"
      ]
     },
     "metadata": {},
     "output_type": "display_data"
    }
   ],
   "source": [
    "sns.heatmap(df.corr(), cmap = 'flare',center = 0, vmin = -1, vmax = 1, annot = True, fmt = \".2f\")\n",
    "plt.show();"
   ]
  }
 ],
 "metadata": {
  "kernelspec": {
   "display_name": "Python 3 (ipykernel)",
   "language": "python",
   "name": "python3"
  },
  "language_info": {
   "codemirror_mode": {
    "name": "ipython",
    "version": 3
   },
   "file_extension": ".py",
   "mimetype": "text/x-python",
   "name": "python",
   "nbconvert_exporter": "python",
   "pygments_lexer": "ipython3",
   "version": "3.9.13"
  }
 },
 "nbformat": 4,
 "nbformat_minor": 5
}
